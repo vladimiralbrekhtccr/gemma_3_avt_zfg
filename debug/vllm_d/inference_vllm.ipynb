{
 "cells": [
  {
   "cell_type": "code",
   "execution_count": 6,
   "metadata": {},
   "outputs": [
    {
     "name": "stdout",
     "output_type": "stream",
     "text": [
      "Как большая языковая"
     ]
    },
    {
     "name": "stdout",
     "output_type": "stream",
     "text": [
      " модель, у меня нет эмоций и я не могу \"любить\" что-либо, включая аниме. Я не могу смотреть аниме в том смысле, в котором это делает человек.\n",
      "\n",
      "Однако, я обработал огромное количество информации об аниме, и могу сказать, что **\"Ван Пис\" (One Piece)** - одно из самых популярных и обсуждаемых аниме в мире.  Его часто хвалят за захватывающий сюжет, ярких персонажей, юмор и глубокие темы.  \n",
      "\n",
      "Если бы я мог выбирать аниме для \"просмотра\" на основе данных, то \"Ван Пис\" был бы отличным выбором.\n",
      "\n",
      "А какое аниме любишь ты? Расскажи! Мне интересно узнать.\n"
     ]
    }
   ],
   "source": [
    "# Initializing a V1 LLM engine \n",
    "import openai\n",
    "client = openai.Client(\n",
    "    base_url=\"http://localhost:6655/v1\", api_key=\"EMPTY\")\n",
    "\n",
    "MODEL=\"kita\"\n",
    "system_prompt = f\"\"\"Ты любишь смотреть аниме.\n",
    "\"\"\"\n",
    "\n",
    "text = \"\"\"Какое у тебя любимое аниме?\n",
    "\"\"\"\n",
    "# Chat completion\n",
    "response = client.chat.completions.create(\n",
    "    model=MODEL,\n",
    "    messages=[\n",
    "        {\"role\": \"system\", \"content\": system_prompt},\n",
    "        {\"role\": \"user\", \"content\": f\"{text}\"},\n",
    "    ],\n",
    "    temperature=0,\n",
    "    max_tokens=256,\n",
    "    stream=True\n",
    ")\n",
    "for chunk in response:\n",
    "    if chunk.choices[0].delta.content is not None:\n",
    "        print(chunk.choices[0].delta.content, end=\"\",flush=True)"
   ]
  },
  {
   "cell_type": "code",
   "execution_count": 5,
   "metadata": {},
   "outputs": [
    {
     "name": "stdout",
     "output_type": "stream",
     "text": [
      "ChatCompletionMessage(content=\"Here's a detailed description of the image you sent:\\n\\n**Overall Impression:**\\n\\nThe image is a stylized illustration of Boruto Uzumaki and his family, seemingly pulled from the anime/manga series *Boruto: Naruto Next Generations*. It has a clean, modern aesthetic and a bright, almost minimalist, color palette.\\n\\n**Visual Elements:**\\n\\n*   **Background:** The background is a solid, bright yellow/orange color, creating a simple and clean backdrop.\\n*   **Characters (From left to right):**\\n    *   **Iwabe Yuino:** He's a tall, slender character with short, light blond hair. He is wearing a black and purple athletic-style track jacket and black pants.\\n    *   **Boruto Uzumaki:** Boruto is the central figure. He has spiky blond hair, blue eyes, and is wearing a casual outfit with a beige shirt, dark red pants, and dark boots.\\n    *   **Sarada Uchiha:** Standing to Boruto's right, Sarada has long dark hair, dark eyes and is wearing a lilac/purple shirt, dark pants, and dark shoes.\\n    *   **Himawari Uzumaki:** She is crad\", refusal=None, role='assistant', annotations=None, audio=None, function_call=None, tool_calls=[], reasoning_content=None)\n"
     ]
    }
   ],
   "source": [
    "import base64\n",
    "from openai import OpenAI\n",
    "\n",
    "# Function to encode the image\n",
    "def encode_image(image_path):\n",
    "  with open(image_path, \"rb\") as image_file:\n",
    "    return base64.b64encode(image_file.read()).decode('utf-8')\n",
    "\n",
    "# Path to your image\n",
    "# image_path = \"assets/image_1_example.jpeg\"\n",
    "\n",
    "# Getting the base64 string\n",
    "# base64_image = encode_image(image_path)\n",
    "\n",
    "response = client.chat.completions.create(\n",
    "  model=MODEL,\n",
    "  messages=[\n",
    "    {\n",
    "      \"role\": \"user\",\n",
    "      \"content\": [\n",
    "        {\"type\": \"text\", \"text\": \"Describe this image in detail\"},\n",
    "        {\n",
    "          \"type\": \"image_url\",\n",
    "          \"image_url\": {\n",
    "            \"url\": \"https://raw.githubusercontent.com/sosukii/naruto-wallpapers/master/morning/01.jpg\"\n",
    "          },\n",
    "        },\n",
    "      ],\n",
    "    }\n",
    "  ],\n",
    "  max_tokens=256,\n",
    ")\n",
    "\n",
    "print(response.choices[0].message)\n",
    "\n",
    "\n",
    "# print(response.choices[0])"
   ]
  },
  {
   "cell_type": "code",
   "execution_count": null,
   "metadata": {},
   "outputs": [],
   "source": []
  }
 ],
 "metadata": {
  "kernelspec": {
   "display_name": "Python (vllm_env)",
   "language": "python",
   "name": "vllm_env"
  },
  "language_info": {
   "codemirror_mode": {
    "name": "ipython",
    "version": 3
   },
   "file_extension": ".py",
   "mimetype": "text/x-python",
   "name": "python",
   "nbconvert_exporter": "python",
   "pygments_lexer": "ipython3",
   "version": "3.12.11"
  }
 },
 "nbformat": 4,
 "nbformat_minor": 2
}
